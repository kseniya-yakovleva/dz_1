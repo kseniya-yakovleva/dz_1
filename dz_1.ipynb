{
 "cells": [
  {
   "cell_type": "code",
   "execution_count": null,
   "metadata": {},
   "outputs": [],
   "source": [
    "#Задание 1"
   ]
  },
  {
   "cell_type": "code",
   "execution_count": 1,
   "metadata": {},
   "outputs": [
    {
     "name": "stdout",
     "output_type": "stream",
     "text": [
      "Фраза 1 длинее фразы 2\n"
     ]
    }
   ],
   "source": [
    "phrase_1 = 'Нужно писать более короткие фразы, но не сегодня'\n",
    "phrase_2 = 'Можно написать фразу короче'\n",
    "if phrase_1 > phrase_2:\n",
    "    print ('Фраза 1 длинее фразы 2')"
   ]
  },
  {
   "cell_type": "code",
   "execution_count": 2,
   "metadata": {},
   "outputs": [
    {
     "name": "stdout",
     "output_type": "stream",
     "text": [
      "Фраза 2 длинее фразы 1\n"
     ]
    }
   ],
   "source": [
    "phrase_1 = 'Можно написать фразу короче'\n",
    "phrase_2 = 'Нужно писать более короткие фразы, но не сегодня'\n",
    "if phrase_2 > phrase_1:\n",
    "    print ('Фраза 2 длинее фразы 1')"
   ]
  },
  {
   "cell_type": "code",
   "execution_count": 3,
   "metadata": {},
   "outputs": [
    {
     "name": "stdout",
     "output_type": "stream",
     "text": [
      "Фразы одной длины\n"
     ]
    }
   ],
   "source": [
    "phrase_1 = 'Можно написать фразу короче'\n",
    "phrase_2 = 'Можно написать фразу короче'\n",
    "if phrase_1 == phrase_2:\n",
    "    print ('Фразы одной длины')"
   ]
  },
  {
   "cell_type": "code",
   "execution_count": null,
   "metadata": {},
   "outputs": [],
   "source": [
    "#Задание 2"
   ]
  },
  {
   "cell_type": "code",
   "execution_count": 4,
   "metadata": {},
   "outputs": [
    {
     "name": "stdout",
     "output_type": "stream",
     "text": [
      "Високосный год\n"
     ]
    }
   ],
   "source": [
    "year = 2020\n",
    "if year % 4 == 0:\n",
    "    print ('Високосный год')"
   ]
  },
  {
   "cell_type": "code",
   "execution_count": 5,
   "metadata": {},
   "outputs": [
    {
     "name": "stdout",
     "output_type": "stream",
     "text": [
      "Обычный год\n"
     ]
    }
   ],
   "source": [
    "year = 2019\n",
    "if year % 4 != 0:\n",
    "    print ('Обычный год')"
   ]
  },
  {
   "cell_type": "code",
   "execution_count": null,
   "metadata": {},
   "outputs": [],
   "source": [
    "#Задание 3 "
   ]
  },
  {
   "cell_type": "code",
   "execution_count": 8,
   "metadata": {},
   "outputs": [
    {
     "name": "stdout",
     "output_type": "stream",
     "text": [
      "Введите день 7\n",
      "Введите месяц Апрель\n",
      "Ваш знак зодиака: Овен\n"
     ]
    }
   ],
   "source": [
    "date = int(input('Введите день '))\n",
    "month = input('Введите месяц ')\n",
    "if (date >= 21 and date <= 31 and month == 'Март') or (date >= 1 and date <= 20 and month == 'Апрель'):\n",
    "    print ('Ваш знак зодиака: Овен') \n",
    "else: \n",
    "    print('Не Овен')"
   ]
  },
  {
   "cell_type": "code",
   "execution_count": 11,
   "metadata": {},
   "outputs": [
    {
     "name": "stdout",
     "output_type": "stream",
     "text": [
      "Введите день 5\n",
      "Введите месяц Сентября\n",
      "Не Дева и не Весы\n"
     ]
    }
   ],
   "source": [
    "date = int(input('Введите день '))\n",
    "month = input('Введите месяц ')\n",
    "if (date >= 24 and date <= 31 and month == 'Август') or (date >= 1 and date <= 23 and month == 'Сентябрь'):\n",
    "    print ('Ваш знак зодиака: Дева')  \n",
    "elif (date >= 24 and date <= 30 and month == 'Сентябрь') or (date >= 1 and date <= 23 and month == 'Октябрь'):\n",
    "        print ('Ваш знак зодиака: Весы')\n",
    "else: \n",
    "    print('Не Дева и не Весы')"
   ]
  },
  {
   "cell_type": "code",
   "execution_count": null,
   "metadata": {},
   "outputs": [],
   "source": [
    "#Задание 4"
   ]
  },
  {
   "cell_type": "code",
   "execution_count": 17,
   "metadata": {},
   "outputs": [
    {
     "name": "stdout",
     "output_type": "stream",
     "text": [
      "Упаковка для лыж\n"
     ]
    }
   ],
   "source": [
    "width = 20\n",
    "length = 209\n",
    "height = 16\n",
    "if (width < 15 and length < 15 and height < 15):\n",
    "    print ('Коробка №1')\n",
    "elif (15 > width < 50 or 15 > length < 50 or 15 > height < 50):\n",
    "    print ('Коробка №2')\n",
    "elif (length > 200):\n",
    "    print ('Упаковка для лыж')\n",
    "else:\n",
    "    print ('Стандартная коробка №3')"
   ]
  },
  {
   "cell_type": "code",
   "execution_count": null,
   "metadata": {},
   "outputs": [],
   "source": [
    "#Задание 6"
   ]
  },
  {
   "cell_type": "code",
   "execution_count": 20,
   "metadata": {},
   "outputs": [
    {
     "name": "stdout",
     "output_type": "stream",
     "text": [
      "Введите тип фигуры прямоугольник\n",
      "Введите длину стороны A 4\n",
      "Введите длину стороны B 5\n",
      "Площадь прямоугольника = 20\n",
      "Конец программы\n"
     ]
    }
   ],
   "source": [
    "type = input('Введите тип фигуры ')\n",
    "if type == 'круг':\n",
    "    rad = int(input('Введите радиус круга '))\n",
    "    area = rad*rad*3.1415\n",
    "    print ('Площадь круга =',area)\n",
    "elif type == 'треугольник':\n",
    "    A = int(input('Введите длину стороны А '))\n",
    "    B = int(input('Введите длину стороны В '))\n",
    "    C = int(input('Введите длину стороны С '))\n",
    "    p = (A + B + C)/2\n",
    "    area = (p * (p - A) * (p - B) * (p - C))**(1./2)\n",
    "    print ('Площадь треугольника =',area)\n",
    "elif type == 'прямоугольник':\n",
    "    A = int(input('Введите длину стороны A '))\n",
    "    B = int(input('Введите длину стороны B '))\n",
    "    area = A * B\n",
    "    print ('Площадь прямоугольника =',area)\n",
    "print ('Конец программы')"
   ]
  }
 ],
 "metadata": {
  "kernelspec": {
   "display_name": "Python 3",
   "language": "python",
   "name": "python3"
  },
  "language_info": {
   "codemirror_mode": {
    "name": "ipython",
    "version": 3
   },
   "file_extension": ".py",
   "mimetype": "text/x-python",
   "name": "python",
   "nbconvert_exporter": "python",
   "pygments_lexer": "ipython3",
   "version": "3.8.3"
  }
 },
 "nbformat": 4,
 "nbformat_minor": 4
}
